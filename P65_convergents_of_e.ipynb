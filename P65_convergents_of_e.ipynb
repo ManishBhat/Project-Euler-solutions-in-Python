{
  "nbformat": 4,
  "nbformat_minor": 0,
  "metadata": {
    "colab": {
      "name": "P65_convergents_of_e.ipynb",
      "provenance": []
    },
    "kernelspec": {
      "name": "python3",
      "display_name": "Python 3"
    }
  },
  "cells": [
    {
      "cell_type": "code",
      "metadata": {
        "id": "VR9zLAulArRN",
        "colab_type": "code",
        "colab": {
          "base_uri": "https://localhost:8080/",
          "height": 34
        },
        "outputId": "870e3b1c-07ad-41c9-9098-6005278143ea"
      },
      "source": [
        "def digitsum(num):\n",
        "  ans = 0\n",
        "  while num!=0:\n",
        "    ans+= num%10\n",
        "    num//=10\n",
        "  return ans\n",
        "def q65(N):\n",
        "  h0, k0 = 2, 1\n",
        "  h1, k1 = 3, 1\n",
        "  a = 2\n",
        "  h2, k2 = 0, 0\n",
        "  for i in range(N-2):\n",
        "    h2 = a*h1 + h0 \n",
        "    k2 = a*k1 + k0\n",
        "    h0, k0 = h1, k1\n",
        "    h1, k1 = h2, k2\n",
        "    if i%3 == 2:\n",
        "      a = 2*(i//3 + 2)\n",
        "    else:\n",
        "      a = 1\n",
        "  return digitsum(h2)\n",
        "q65(100)"
      ],
      "execution_count": 23,
      "outputs": [
        {
          "output_type": "execute_result",
          "data": {
            "text/plain": [
              "272"
            ]
          },
          "metadata": {
            "tags": []
          },
          "execution_count": 23
        }
      ]
    }
  ]
}