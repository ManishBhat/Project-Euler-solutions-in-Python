{
  "nbformat": 4,
  "nbformat_minor": 0,
  "metadata": {
    "colab": {
      "name": "P301_Nim.ipynb",
      "provenance": [],
      "collapsed_sections": []
    },
    "kernelspec": {
      "name": "python3",
      "display_name": "Python 3"
    }
  },
  "cells": [
    {
      "cell_type": "code",
      "metadata": {
        "id": "dwZdEl10-MCI",
        "colab_type": "code",
        "colab": {}
      },
      "source": [
        "from numba import jit"
      ],
      "execution_count": 4,
      "outputs": []
    },
    {
      "cell_type": "code",
      "metadata": {
        "id": "23-2zKdW5voT",
        "colab_type": "code",
        "colab": {}
      },
      "source": [
        "def nim_win(x, y, z):\n",
        "  if x^y^z !=0:\n",
        "    return 1 # Player wins\n",
        "  else:\n",
        "    return 0 # Player loses"
      ],
      "execution_count": 1,
      "outputs": []
    },
    {
      "cell_type": "code",
      "metadata": {
        "id": "l2t3_zvL6yMo",
        "colab_type": "code",
        "colab": {
          "base_uri": "https://localhost:8080/",
          "height": 85
        },
        "outputId": "282d7bd7-b7df-4cb7-894f-6ffbb8e53936"
      },
      "source": [
        "%%time\n",
        "import numpy as np\n",
        "N = 2**27\n",
        "print(N)\n",
        "arr = np.arange(1, N+1)\n",
        "#print(arr)\n",
        "f = np.bitwise_xor\n",
        "x = f(f(arr, 2*arr), 3*arr)\n",
        "#print(x)\n",
        "print(len(x) - np.count_nonzero(x))"
      ],
      "execution_count": 1,
      "outputs": [
        {
          "output_type": "stream",
          "text": [
            "134217728\n",
            "514229\n",
            "CPU times: user 1.33 s, sys: 800 ms, total: 2.13 s\n",
            "Wall time: 2.15 s\n"
          ],
          "name": "stdout"
        }
      ]
    },
    {
      "cell_type": "code",
      "metadata": {
        "id": "8HjUPUeg9Vzw",
        "colab_type": "code",
        "colab": {}
      },
      "source": [
        "@jit\n",
        "def f(N):\n",
        "  counter = 0\n",
        "  for i in range(1, N+1):\n",
        "      if i^(2*i)^(3*i)==0:\n",
        "        counter+=1\n",
        "  return counter"
      ],
      "execution_count": 5,
      "outputs": []
    },
    {
      "cell_type": "code",
      "metadata": {
        "id": "Ud7gi4qs94zS",
        "colab_type": "code",
        "colab": {
          "base_uri": "https://localhost:8080/",
          "height": 68
        },
        "outputId": "77ada6e6-39b9-46f4-c500-aa9289c432af"
      },
      "source": [
        "%%time\n",
        "print(f(2**30))"
      ],
      "execution_count": 6,
      "outputs": [
        {
          "output_type": "stream",
          "text": [
            "2178309\n",
            "CPU times: user 490 ms, sys: 18 ms, total: 507 ms\n",
            "Wall time: 700 ms\n"
          ],
          "name": "stdout"
        }
      ]
    }
  ]
}