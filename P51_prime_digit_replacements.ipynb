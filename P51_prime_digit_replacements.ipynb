{
  "nbformat": 4,
  "nbformat_minor": 0,
  "metadata": {
    "colab": {
      "name": "P51_prime_digit_replacements.ipynb",
      "provenance": [],
      "collapsed_sections": []
    },
    "kernelspec": {
      "name": "python3",
      "display_name": "Python 3"
    }
  },
  "cells": [
    {
      "cell_type": "code",
      "metadata": {
        "id": "lveA6zj_FHR-"
      },
      "source": [
        "from itertools import product, permutations\n",
        "from sympy import isprime\n",
        "\n",
        "def f(my_perm, no_primes):\n",
        "  s = []\n",
        "  n = len(my_perm)\n",
        "  repeat = 0\n",
        "  for i in range(n):\n",
        "    if my_perm[i] == \"_\":\n",
        "      s.append(10**(n-i-1))\n",
        "    else:\n",
        "      repeat += 10**(n-i-1)\n",
        "  lists = [range(0, 10)]*(len(s))\n",
        "\n",
        "  for items in product(*lists):\n",
        "    non_repeat = 0\n",
        "    for a,b in zip(items,s):  non_repeat += a*b\n",
        "    counter, loop_val, prange =  0, True, range(10)\n",
        "    if repeat > non_repeat:   prange = range(1, 10)\n",
        "    \n",
        "    for p in prange:\n",
        "      num = non_repeat + repeat * p\n",
        "      if isprime(num) is False:\n",
        "        counter += 1\n",
        "        if counter > (len(prange) - no_primes):\n",
        "          loop_val = False\n",
        "          break\n",
        "    \n",
        "    if loop_val:\n",
        "      for p in prange:\n",
        "        num = non_repeat + repeat * p\n",
        "        if isprime(num) is True:\n",
        "          print(num)\n",
        "          return\n"
      ],
      "execution_count": null,
      "outputs": []
    },
    {
      "cell_type": "code",
      "metadata": {
        "id": "nZC_pyb5fXOb",
        "outputId": "8de632c7-037a-405e-f724-0625fabd4e2c",
        "colab": {
          "base_uri": "https://localhost:8080/",
          "height": 67
        }
      },
      "source": [
        "%%time\n",
        "def gen_perms(repeats, non_repeats):\n",
        "  s = '*' * repeats + '_' * non_repeats\n",
        "  return {''.join(p) for p in permutations(s)}\n",
        "\n",
        "for perm in gen_perms(3,3):\n",
        "  f(perm, 8)"
      ],
      "execution_count": null,
      "outputs": [
        {
          "output_type": "stream",
          "text": [
            "121313\n",
            "CPU times: user 145 ms, sys: 998 µs, total: 146 ms\n",
            "Wall time: 146 ms\n"
          ],
          "name": "stdout"
        }
      ]
    }
  ]
}