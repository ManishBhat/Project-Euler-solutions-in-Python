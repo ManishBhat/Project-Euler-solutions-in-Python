{
  "nbformat": 4,
  "nbformat_minor": 0,
  "metadata": {
    "colab": {
      "name": "P347_largest_integer_divisible_by_2_primes..ipynb",
      "provenance": []
    },
    "kernelspec": {
      "name": "python3",
      "display_name": "Python 3"
    }
  },
  "cells": [
    {
      "cell_type": "code",
      "metadata": {
        "id": "BRcpoivuKakH",
        "colab_type": "code",
        "colab": {}
      },
      "source": [
        "from math import pow, log, sqrt\n",
        "from numba import jit"
      ],
      "execution_count": 19,
      "outputs": []
    },
    {
      "cell_type": "code",
      "metadata": {
        "id": "MmUV5xEDKYnt",
        "colab_type": "code",
        "colab": {}
      },
      "source": [
        "@jit\n",
        "def sieve_of_erat(N):\n",
        "    \"\"\"\n",
        "    Function implements sieve of Eratosthenes (for all numbers uptil N).\n",
        "    Returns array erat_sieve\n",
        "    If erat_sieve[i] is True, then 2*i + 3 is a prime.\n",
        "    \"\"\"\n",
        "    lim = int(N/2)\n",
        "    if N % 2 == 0:\n",
        "        lim -= 1\n",
        "    erat_sieve = [True]*lim\n",
        "    prime_list = []\n",
        "    prime_list.append(2)\n",
        "    for i in range(int((sqrt(N)-3)/2)+1):  # Only need to run till sqrt(n)\n",
        "        if erat_sieve[i] == True:\n",
        "            j = i + (2*i+3)\n",
        "            while j < lim:\n",
        "                erat_sieve[j] = False\n",
        "                j += (2*i+3)\n",
        "    for i in range(lim):\n",
        "        if erat_sieve[i] == True:\n",
        "            prime_list.append(2*i+3)\n",
        "        \n",
        "    return erat_sieve, prime_list\n"
      ],
      "execution_count": 65,
      "outputs": []
    },
    {
      "cell_type": "code",
      "metadata": {
        "id": "917bclF-GsCc",
        "colab_type": "code",
        "colab": {}
      },
      "source": [
        "def M(p,q,N):\n",
        "    max_val = 0\n",
        "    N = N//q\n",
        "    v1 = p\n",
        "    while v1<=N:\n",
        "      v2 = int(log(N//v1, q))\n",
        "      val = v1 * (q**(v2+1))\n",
        "      if val > max_val:\n",
        "        max_val = val\n",
        "      v1 *= p\n",
        "    return max_val"
      ],
      "execution_count": 66,
      "outputs": []
    },
    {
      "cell_type": "code",
      "metadata": {
        "id": "CMvurGOmKdo_",
        "colab_type": "code",
        "colab": {}
      },
      "source": [
        "def S(N):\n",
        "  ans = 0\n",
        "  _, plist = sieve_of_erat(N//2)\n",
        "  for i in range(len(plist)):\n",
        "    x = plist[i]\n",
        "    for j in range(i+1, len(plist)):\n",
        "      y = plist[j]\n",
        "      if x*y > N:\n",
        "        break\n",
        "      ans += M(x, y, N)\n",
        "  return ans"
      ],
      "execution_count": 67,
      "outputs": []
    },
    {
      "cell_type": "code",
      "metadata": {
        "id": "ylHM2bpaPmIk",
        "colab_type": "code",
        "colab": {
          "base_uri": "https://localhost:8080/",
          "height": 68
        },
        "outputId": "63cfe610-6fc9-41bd-c95c-04e239a8b502"
      },
      "source": [
        "%%time\n",
        "S(10_000_000)"
      ],
      "execution_count": 68,
      "outputs": [
        {
          "output_type": "stream",
          "text": [
            "CPU times: user 2.62 s, sys: 11 ms, total: 2.63 s\n",
            "Wall time: 2.63 s\n"
          ],
          "name": "stdout"
        },
        {
          "output_type": "execute_result",
          "data": {
            "text/plain": [
              "11109800204052"
            ]
          },
          "metadata": {
            "tags": []
          },
          "execution_count": 68
        }
      ]
    }
  ]
}