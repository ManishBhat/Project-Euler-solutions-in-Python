{
  "nbformat": 4,
  "nbformat_minor": 0,
  "metadata": {
    "colab": {
      "name": "P31_coin_sums.ipynb",
      "provenance": []
    },
    "kernelspec": {
      "name": "python3",
      "display_name": "Python 3"
    }
  },
  "cells": [
    {
      "cell_type": "markdown",
      "metadata": {
        "id": "jX_Y6nzgmSwY"
      },
      "source": [
        "This problem is solved using dynamic programming. I have created a matrix \"a\" which is key to solving the problem. \n",
        "\n",
        "a[n][i] is the number of ways to make n pences using just the first (i+1) coins."
      ]
    },
    {
      "cell_type": "code",
      "metadata": {
        "id": "BWGtWCaCl-Rp"
      },
      "source": [
        "def f(N, coins):\n",
        "  a = [[0]*len(coins) for i in range(N+1)]\n",
        "  a[0] = [1]*len(coins)\n",
        "  for i in range(N+1):\n",
        "    a[i][0] = 1\n",
        "\n",
        "  for n in range(1, N+1):\n",
        "    for i in range(1, len(coins)):\n",
        "      if n < coins[i]:\n",
        "        a[n][i] = a[n][i-1]\n",
        "      else:\n",
        "        a[n][i] = a[n][i-1] + a[n - coins[i]][i]\n",
        "\n",
        "  return a[N][len(coins) -1]"
      ],
      "execution_count": 1,
      "outputs": []
    },
    {
      "cell_type": "code",
      "metadata": {
        "id": "sW5a_g4vmG9U",
        "outputId": "3c1de44d-e39f-4cb5-a993-b4df3dc1ebc1",
        "colab": {
          "base_uri": "https://localhost:8080/"
        }
      },
      "source": [
        "%%time\n",
        "N = 200\n",
        "coins = [1, 2, 5, 10, 20, 50, 100, 200]\n",
        "print(f(N, coins))"
      ],
      "execution_count": 2,
      "outputs": [
        {
          "output_type": "stream",
          "text": [
            "73682\n",
            "CPU times: user 523 µs, sys: 0 ns, total: 523 µs\n",
            "Wall time: 500 µs\n"
          ],
          "name": "stdout"
        }
      ]
    }
  ]
}