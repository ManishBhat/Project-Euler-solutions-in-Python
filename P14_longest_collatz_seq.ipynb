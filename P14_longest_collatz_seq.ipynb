{
  "nbformat": 4,
  "nbformat_minor": 0,
  "metadata": {
    "colab": {
      "name": "P14_longest_collatz_seq.ipynb",
      "provenance": []
    },
    "kernelspec": {
      "name": "python3",
      "display_name": "Python 3"
    }
  },
  "cells": [
    {
      "cell_type": "markdown",
      "metadata": {
        "id": "8oP9dfpdQhY3"
      },
      "source": [
        "This problem has been done in two different ways:\n",
        "1. Memoization using a dictionary\n",
        "2. Brute force"
      ]
    },
    {
      "cell_type": "markdown",
      "metadata": {
        "id": "84f_MYh0QsWl"
      },
      "source": [
        "# Memoization using a dictionary"
      ]
    },
    {
      "cell_type": "code",
      "metadata": {
        "id": "69Sbj9VxMoGB",
        "outputId": "871aeebe-effc-474f-9ce4-29be3cfd3f1e",
        "colab": {
          "base_uri": "https://localhost:8080/"
        }
      },
      "source": [
        "%%time\n",
        "def collatz(n, cd):\n",
        "  if n in cd:\n",
        "    return cd[n]\n",
        "  if n%2 == 0:\n",
        "    cd[n] = collatz(n//2, cd) + 1\n",
        "    return cd[n]\n",
        "  else:\n",
        "    cd[n] = collatz(3*n+1, cd) + 1\n",
        "    return cd[n]\n",
        "\n",
        "def q14(N):\n",
        "  max_seq_len = 1\n",
        "  max_n = 1\n",
        "  cd = {1:1}\n",
        "  for n in range(2, N):\n",
        "    seq_len = collatz(n, cd)\n",
        "    if max_seq_len < seq_len:\n",
        "      max_seq_len = seq_len\n",
        "      max_n = n\n",
        "  print(f\"Number producing max sequence length is {max_n}\")\n",
        "  print(f\"The max sequence length is {max_seq_len}\")\n",
        "\n",
        "N = 1_000_000\n",
        "q14(N)"
      ],
      "execution_count": 18,
      "outputs": [
        {
          "output_type": "stream",
          "text": [
            "Number producing max sequence length is 837799\n",
            "The max sequence length is 525\n",
            "CPU times: user 1.41 s, sys: 34.9 ms, total: 1.45 s\n",
            "Wall time: 1.45 s\n"
          ],
          "name": "stdout"
        }
      ]
    },
    {
      "cell_type": "markdown",
      "metadata": {
        "id": "1-q8TAHNQypl"
      },
      "source": [
        "# Brute force"
      ]
    },
    {
      "cell_type": "code",
      "metadata": {
        "id": "1d0vIBoMPplb",
        "outputId": "b1688e02-c497-49b3-964d-d9e2c58f50b4",
        "colab": {
          "base_uri": "https://localhost:8080/"
        }
      },
      "source": [
        "%%time\n",
        "from numba import jit\n",
        "\n",
        "@jit\n",
        "def f(N):\n",
        "    longest=1\n",
        "    terms=1\n",
        "    for i in range(1, N):\n",
        "        j=i\n",
        "        thisterm=1\n",
        "        while j!=1:\n",
        "            thisterm=thisterm+1\n",
        "    \n",
        "            if j%2==0:\n",
        "                j=j/2\n",
        "            else:\n",
        "                j=3*j+1\n",
        "        if thisterm>terms:\n",
        "          terms=thisterm\n",
        "          longest=i\n",
        "    print(\"Number with largest collatz sequence: \",longest)\n",
        "    print(\"Sequence length: \",terms)\n",
        "\n",
        "\n",
        "N = 1_000_000\n",
        "f(N)"
      ],
      "execution_count": 19,
      "outputs": [
        {
          "output_type": "stream",
          "text": [
            "Number with largest collatz sequence:  837799\n",
            "Sequence length:  525\n",
            "CPU times: user 5.93 s, sys: 4 ms, total: 5.93 s\n",
            "Wall time: 5.93 s\n"
          ],
          "name": "stdout"
        }
      ]
    }
  ]
}