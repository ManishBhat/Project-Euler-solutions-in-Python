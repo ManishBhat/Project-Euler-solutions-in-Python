{
  "nbformat": 4,
  "nbformat_minor": 0,
  "metadata": {
    "colab": {
      "name": "P205_dice_game.ipynb",
      "provenance": []
    },
    "kernelspec": {
      "name": "python3",
      "display_name": "Python 3"
    }
  },
  "cells": [
    {
      "cell_type": "code",
      "metadata": {
        "id": "ZyPQ-NfkHpwB",
        "colab_type": "code",
        "colab": {}
      },
      "source": [
        "from sortedcontainers import SortedDict"
      ],
      "execution_count": 120,
      "outputs": []
    },
    {
      "cell_type": "code",
      "metadata": {
        "id": "8n7CiOzJ6PqP",
        "colab_type": "code",
        "colab": {}
      },
      "source": [
        "class RV(): # Random Variable\n",
        "  def __init__(self, pmf):\n",
        "    self.pmf = SortedDict(pmf)\n",
        "  \n",
        "  def __mul__(self, const):\n",
        "    d = SortedDict()\n",
        "    for x in self.pmf:\n",
        "      d[const*x] = self.pmf[x]\n",
        "    return RV(d)\n",
        "   \n",
        "  def __add__(self, other):\n",
        "    d = SortedDict()\n",
        "    for x in self.pmf:\n",
        "      for y in other.pmf:\n",
        "        d[x+y] = d.get(x+y, 0) + self.pmf[x]*other.pmf[y]\n",
        "    return RV(d)\n",
        "\n",
        "  def __sub__(self, other):\n",
        "    return self + (other*(-1))"
      ],
      "execution_count": 121,
      "outputs": []
    },
    {
      "cell_type": "code",
      "metadata": {
        "id": "2g25MeuaF0fH",
        "colab_type": "code",
        "colab": {}
      },
      "source": [
        "def dice(N):\n",
        "  pmf = SortedDict()\n",
        "  for i in range(1, N+1):\n",
        "    pmf[i] = 1/N\n",
        "  return RV(pmf)"
      ],
      "execution_count": 122,
      "outputs": []
    },
    {
      "cell_type": "code",
      "metadata": {
        "id": "fdCVRhmt6iL8",
        "colab_type": "code",
        "colab": {
          "base_uri": "https://localhost:8080/",
          "height": 67
        },
        "outputId": "82b457c3-298f-4916-9e26-489f32c2216e"
      },
      "source": [
        "%%time\n",
        "p = dice(4)\n",
        "c = dice(6)\n",
        "peter = p\n",
        "colin = c\n",
        "for i in range(9-1):\n",
        "  peter += p\n",
        "for i in range(6-1):\n",
        "  colin += c\n",
        "\n",
        "final = peter - colin\n",
        "\n",
        "ans = 0\n",
        "for x in final.pmf:\n",
        "  if x > 0: ans += final.pmf[x]\n",
        "\n",
        "print('{:.7f}'.format(ans))"
      ],
      "execution_count": 125,
      "outputs": [
        {
          "output_type": "stream",
          "text": [
            "0.5731441\n",
            "CPU times: user 2.15 ms, sys: 910 µs, total: 3.06 ms\n",
            "Wall time: 3.04 ms\n"
          ],
          "name": "stdout"
        }
      ]
    }
  ]
}