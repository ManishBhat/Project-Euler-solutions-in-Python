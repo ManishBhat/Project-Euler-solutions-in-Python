{
  "nbformat": 4,
  "nbformat_minor": 0,
  "metadata": {
    "colab": {
      "name": "P112_bouncy_numbers.ipynb",
      "provenance": []
    },
    "kernelspec": {
      "name": "python3",
      "display_name": "Python 3"
    }
  },
  "cells": [
    {
      "cell_type": "code",
      "metadata": {
        "id": "-JT0xbzlA71p",
        "colab_type": "code",
        "colab": {}
      },
      "source": [
        "def bouncy(n):\n",
        "  l = str(n)\n",
        "  z = all(l[i] <= l[i+1] for i in range(len(l)-1))\n",
        "  if z is True:\n",
        "    return False\n",
        "  z = all(l[i] >= l[i+1] for i in range(len(l)-1))\n",
        "  return not z"
      ],
      "execution_count": 27,
      "outputs": []
    },
    {
      "cell_type": "code",
      "metadata": {
        "id": "bKjBmypyBfPw",
        "colab_type": "code",
        "colab": {
          "base_uri": "https://localhost:8080/",
          "height": 34
        },
        "outputId": "8aff8fa0-7c79-4e2f-bf79-68247be8eede"
      },
      "source": [
        "bouncy(9)"
      ],
      "execution_count": 28,
      "outputs": [
        {
          "output_type": "execute_result",
          "data": {
            "text/plain": [
              "False"
            ]
          },
          "metadata": {
            "tags": []
          },
          "execution_count": 28
        }
      ]
    },
    {
      "cell_type": "code",
      "metadata": {
        "id": "vq3e9T7NBjkg",
        "colab_type": "code",
        "colab": {
          "base_uri": "https://localhost:8080/",
          "height": 34
        },
        "outputId": "5f827cdd-71f5-4b8c-9e2d-37cd8456d2ac"
      },
      "source": [
        "bouncy(121)"
      ],
      "execution_count": 29,
      "outputs": [
        {
          "output_type": "execute_result",
          "data": {
            "text/plain": [
              "True"
            ]
          },
          "metadata": {
            "tags": []
          },
          "execution_count": 29
        }
      ]
    },
    {
      "cell_type": "code",
      "metadata": {
        "id": "gtCXZ8r8B0ks",
        "colab_type": "code",
        "colab": {
          "base_uri": "https://localhost:8080/",
          "height": 68
        },
        "outputId": "081736fb-5868-4b0e-c37c-39e5f777669e"
      },
      "source": [
        "%%time\n",
        "counter = 0\n",
        "i = 1\n",
        "while True:\n",
        "  if bouncy(i):\n",
        "    counter += 1\n",
        "    if counter/i == 0.99:\n",
        "      print(i)\n",
        "      break\n",
        "  i += 1"
      ],
      "execution_count": 30,
      "outputs": [
        {
          "output_type": "stream",
          "text": [
            "1587000\n",
            "CPU times: user 3.66 s, sys: 1.68 ms, total: 3.66 s\n",
            "Wall time: 3.68 s\n"
          ],
          "name": "stdout"
        }
      ]
    }
  ]
}