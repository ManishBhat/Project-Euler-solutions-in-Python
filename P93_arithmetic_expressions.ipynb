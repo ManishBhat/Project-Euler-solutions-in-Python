{
  "nbformat": 4,
  "nbformat_minor": 0,
  "metadata": {
    "colab": {
      "name": "P93_arithmetic_expressions.ipynb",
      "provenance": []
    },
    "kernelspec": {
      "name": "python3",
      "display_name": "Python 3"
    }
  },
  "cells": [
    {
      "cell_type": "code",
      "metadata": {
        "id": "hPZj-wUCNNkY",
        "colab_type": "code",
        "colab": {}
      },
      "source": [
        "import operator as op\n",
        "\n",
        "def zerohandler(f):\n",
        "  def wrapper_zerohandler(*args, **kwargs):\n",
        "    try:\n",
        "      return f(*args, **kwargs)\n",
        "    except ZeroDivisionError:\n",
        "      return 0\n",
        "  return wrapper_zerohandler\n",
        "\n",
        "def my_func():\n",
        "  f1 = zerohandler(lambda a, b, c, d, op1, op2, op3: op3(op2(a, op1(b, c)), d))\n",
        "  f2 = zerohandler(lambda a, b, c, d, op1, op2, op3: op3(op1(a, b), op2(c, d)))\n",
        "  f3 = zerohandler(lambda a, b, c, d, op1, op2, op3: op3(op2(op1(a, b), c), d))\n",
        "  f4 = zerohandler(lambda a, b, c, d, op1, op2, op3: op3(a, op2(op1(b, c), d))) \n",
        "  f5 = zerohandler(lambda a, b, c, d, op1, op2, op3: op3(a, op2(b, op1(c, d))))\n",
        "  op_list = [op.add, op.sub, op.mul, op.truediv]\n",
        "  f_list = [f1, f2, f3, f4, f5]\n",
        "  n_list = set(range(10))\n",
        "  my_dict = {}\n",
        "  for a in n_list:\n",
        "    for b in n_list-{a}:\n",
        "      for c in n_list-{a,b}:\n",
        "        for d in n_list-{a,b,c}:\n",
        "          for op1 in op_list:\n",
        "            for op2 in op_list:\n",
        "              for op3 in op_list:\n",
        "                for f in f_list:\n",
        "                  num = int(''.join(sorted(f\"{a}{b}{c}{d}\")))\n",
        "                  my_dict[num] = my_dict.get(num, set())\n",
        "                  val = f(a,b,c,d,op1,op2,op3)\n",
        "                  if isinstance(val, int) or val.is_integer():\n",
        "                    my_dict[num].add(val)\n",
        "  max_num, max_counter = 0, 0\n",
        "  for num in my_dict:\n",
        "    i = 1\n",
        "    while i in my_dict[num]: i += 1\n",
        "    if i - 1 > max_counter:\n",
        "      max_num, max_counter = num, i - 1\n",
        "  print(\"abcd is (Answer):\", max_num)\n",
        "  print(\"Consecutive numbers till: \", max_counter)"
      ],
      "execution_count": 62,
      "outputs": []
    },
    {
      "cell_type": "code",
      "metadata": {
        "id": "CYRWAOt1W33q",
        "colab_type": "code",
        "colab": {
          "base_uri": "https://localhost:8080/",
          "height": 84
        },
        "outputId": "d90d307e-f4e3-40f1-91f6-9311295a7dea"
      },
      "source": [
        "%%time\n",
        "my_func()"
      ],
      "execution_count": 63,
      "outputs": [
        {
          "output_type": "stream",
          "text": [
            "abcd is (Answer): 1258\n",
            "Consecutive numbers till:  51\n",
            "CPU times: user 3.31 s, sys: 891 µs, total: 3.31 s\n",
            "Wall time: 3.31 s\n"
          ],
          "name": "stdout"
        }
      ]
    }
  ]
}