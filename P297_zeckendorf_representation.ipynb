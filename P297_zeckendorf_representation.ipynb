{
  "nbformat": 4,
  "nbformat_minor": 0,
  "metadata": {
    "colab": {
      "name": "P297_zeckendorf_representation.ipynb",
      "provenance": []
    },
    "kernelspec": {
      "name": "python3",
      "display_name": "Python 3"
    }
  },
  "cells": [
    {
      "cell_type": "markdown",
      "metadata": {
        "id": "Rv-qIJKgr2-J",
        "colab_type": "text"
      },
      "source": [
        "## Relavant formulas\n",
        "z(n) = Number of terms in the Zecekendorf representation of a number.\n",
        "\n",
        "$G(n) = z(1) + z(2) + ... + z(n-1)$\n",
        "\n",
        "Goal : Calculate G($10^{17}$)\n",
        "\n",
        "We have $f_p <= n-1 < f_{p+1}$ where $\\{f_1, f_2, ... f_n\\}$ are terms of the fibonacci sequence where $f_1 = 1, f_2 = 2, f_3 = 3$ and so on...\n",
        "\n",
        "$G(n) = [z(1) + z(2) + ... + z(f_p-1)] + [z(f_p) + ... + z(n-1)]$\n",
        "\n",
        "for all $k \\in \\{ f_p, ..., n-1\\}$ we have $z(k) = z(k-f_p) + 1$ (As $f_p$ will be a term in their Zeckendorf expansion.)\n",
        "\n",
        "$G(n) = G(f_p) + (n-f_p) + G(n-f_p)$\n",
        "\n",
        "Putting $n = f_p$ in the above formula we get,\n",
        "\n",
        "$G(f_p) = G(f_{p-1})+ f_{p-2} + G(f_{p-2})$ [Note instead of $f_p$ we have to use $f_{p-1}$]\n",
        "\n",
        "We can replace $G(f_p)$ with $F(p)$ to get,\n",
        "\n",
        "$F(p) = F(p-1) + F(p-2) + f_{p-2}$\n",
        "\n",
        "From the above formulas, we get the code below to compute $G(10^{17})$\n"
      ]
    },
    {
      "cell_type": "code",
      "metadata": {
        "id": "Mh0R_vCNq-5V",
        "colab_type": "code",
        "colab": {}
      },
      "source": [
        "N = 10**17  # Value of N for which the answer has to be computed"
      ],
      "execution_count": 27,
      "outputs": []
    },
    {
      "cell_type": "markdown",
      "metadata": {
        "id": "bsJP-cMCqXcg",
        "colab_type": "text"
      },
      "source": [
        "Part 1: Compute fibonacci series $(f_1, f_2, ... f_n)$ such that $f_{n-1} <= N < f_n$ where $f_1 = 1$ and $f_2 = 2$"
      ]
    },
    {
      "cell_type": "code",
      "metadata": {
        "id": "6SqNXPMrqGtP",
        "colab_type": "code",
        "colab": {}
      },
      "source": [
        "f = [None, 1, 2]\n",
        "i = 2\n",
        "while f[i] <= N:\n",
        "  f.append(f[i] + f[i-1])\n",
        "  i += 1"
      ],
      "execution_count": 28,
      "outputs": []
    },
    {
      "cell_type": "markdown",
      "metadata": {
        "id": "wGLQsUocrduC",
        "colab_type": "text"
      },
      "source": [
        "Compute $[F(1), F(2), ... F(n)]$ where $F(p) = G(f_p)$\n",
        "\n"
      ]
    },
    {
      "cell_type": "code",
      "metadata": {
        "id": "Yr4mlL-ArJEM",
        "colab_type": "code",
        "colab": {}
      },
      "source": [
        "F = [None, 0, 1]\n",
        "for i in range(3, len(f)):\n",
        "  F.append(F[i-1]+ F[i-2] + f[i-2])"
      ],
      "execution_count": 29,
      "outputs": []
    },
    {
      "cell_type": "code",
      "metadata": {
        "id": "OTc4R1MjxlJr",
        "colab_type": "code",
        "colab": {}
      },
      "source": [
        "def G(n, F):\n",
        "  if n == 0: return 0\n",
        "  x = f[1]\n",
        "  i = 1\n",
        "  for i in range(2, len(f)):\n",
        "    if f[i]>n:\n",
        "      x = f[i-1]\n",
        "      break\n",
        "  return F[i-1] + G(n-x, F) + (n-x)"
      ],
      "execution_count": 30,
      "outputs": []
    },
    {
      "cell_type": "code",
      "metadata": {
        "id": "wJUNIdfGyZID",
        "colab_type": "code",
        "colab": {
          "base_uri": "https://localhost:8080/",
          "height": 67
        },
        "outputId": "dc6e3562-a89d-45ce-d702-7b23a0f01876"
      },
      "source": [
        "%%time\n",
        "print(\"The answer is:\", G(N, F))"
      ],
      "execution_count": 31,
      "outputs": [
        {
          "output_type": "stream",
          "text": [
            "The answer is: 2252639041804718029\n",
            "CPU times: user 240 µs, sys: 40 µs, total: 280 µs\n",
            "Wall time: 654 µs\n"
          ],
          "name": "stdout"
        }
      ]
    }
  ]
}