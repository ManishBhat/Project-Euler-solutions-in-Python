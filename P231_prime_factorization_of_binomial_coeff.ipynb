{
  "nbformat": 4,
  "nbformat_minor": 0,
  "metadata": {
    "colab": {
      "name": "P231_prime_factorization_of_binomial_coeff.ipynb",
      "provenance": [],
      "collapsed_sections": []
    },
    "kernelspec": {
      "name": "python3",
      "display_name": "Python 3"
    }
  },
  "cells": [
    {
      "cell_type": "code",
      "metadata": {
        "id": "DHnEFVFhMSuk"
      },
      "source": [
        "from math import sqrt\n",
        "from numba import jit\n",
        "\n",
        "@jit\n",
        "def sieve_with_spf(N):\n",
        "    \"\"\"\n",
        "    Function implements sieve of Eratosthenes (for all numbers uptil N).\n",
        "    Returns array erat_sieve\n",
        "    If erat_sieve[i] is True, then 2*i + 3 is a prime.\n",
        "    BONUS: for this problem also computes SPF (smallest prime factor).\n",
        "    This reduces factorization computation time from sqrt(N) to log(N)\n",
        "    \"\"\"\n",
        "    lim = int(N/2)\n",
        "    SPF = [0]*(N+1)\n",
        "    if N % 2 == 0:\n",
        "        lim -= 1\n",
        "    erat_sieve = [True]*lim\n",
        "    prime_list = []\n",
        "    prime_list.append(2)\n",
        "    j = 2\n",
        "    while j <= N:\n",
        "      SPF[j] = 2\n",
        "      j += 2\n",
        "    for i in range(int((sqrt(N)-3)/2)+1):  # Only need to run till sqrt(n)\n",
        "        if erat_sieve[i] == True:\n",
        "            p = 2*i + 3\n",
        "            j = i + p\n",
        "            while j < lim:\n",
        "                erat_sieve[j] = False\n",
        "                if SPF[2*j+3] == 0:\n",
        "                  SPF[2*j + 3] = p\n",
        "                j += p\n",
        "    for i in range(lim):\n",
        "        if erat_sieve[i] == True:\n",
        "            p = 2*i+3\n",
        "            prime_list.append(p)\n",
        "            SPF[p] = p\n",
        "        \n",
        "    return erat_sieve, prime_list, SPF"
      ],
      "execution_count": 37,
      "outputs": []
    },
    {
      "cell_type": "code",
      "metadata": {
        "id": "mh3E0YnOTxGd"
      },
      "source": [
        "def binomial_coeff_prime_factorization(N, r, SPF):\n",
        "  r = max(r, N - r)\n",
        "  counter = 0\n",
        "  for i in range(1, N- r +1):\n",
        "    n = i + r \n",
        "    while n!=1:\n",
        "      p = SPF[n]\n",
        "      n //= p\n",
        "      counter += p\n",
        "    n = i\n",
        "    while n!=1:\n",
        "      p = SPF[n]\n",
        "      n //= p\n",
        "      counter -= p\n",
        "  return counter"
      ],
      "execution_count": 46,
      "outputs": []
    },
    {
      "cell_type": "code",
      "metadata": {
        "id": "gOT2EKN0U-ET",
        "outputId": "8cdc30ef-7a86-48db-b0ec-f3693571b7d7",
        "colab": {
          "base_uri": "https://localhost:8080/"
        }
      },
      "source": [
        "%%time\n",
        "N = 20_000_000\n",
        "r = 15_000_000\n",
        "_, _, SPF = sieve_with_spf(N)\n",
        "binomial_coeff_prime_factorization(N, r, SPF)"
      ],
      "execution_count": 47,
      "outputs": [
        {
          "output_type": "stream",
          "text": [
            "CPU times: user 7.19 s, sys: 61 ms, total: 7.25 s\n",
            "Wall time: 7.25 s\n"
          ],
          "name": "stdout"
        }
      ]
    }
  ]
}