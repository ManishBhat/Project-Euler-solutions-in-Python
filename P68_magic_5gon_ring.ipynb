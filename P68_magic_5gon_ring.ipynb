{
  "nbformat": 4,
  "nbformat_minor": 0,
  "metadata": {
    "colab": {
      "name": "P68_magic_5gon_ring.ipynb",
      "provenance": []
    },
    "kernelspec": {
      "name": "python3",
      "display_name": "Python 3"
    }
  },
  "cells": [
    {
      "cell_type": "code",
      "metadata": {
        "id": "a9Qq_8Rvu7bz",
        "colab_type": "code",
        "colab": {
          "base_uri": "https://localhost:8080/",
          "height": 185
        },
        "outputId": "06aca898-3339-4d5f-9586-b52a8af4f36b"
      },
      "source": [
        "%%time\n",
        "# Code for the example 3-gon ring\n",
        "p = set(range(1,7))\n",
        "\n",
        "for x1 in p:\n",
        "  s = p - {x1}\n",
        "  for x2 in s:\n",
        "    s = p - {x1, x2}\n",
        "    for x3 in s:\n",
        "      s = p - {x1,x2,x3}\n",
        "      tot = x1+x2+x3\n",
        "      for x4 in s:\n",
        "        if x3+x4>tot or x1>x4: continue\n",
        "        s = p - {x1,x2,x3,x4}\n",
        "        x5 = tot - x3 - x4\n",
        "        x6 = tot - x2 - x5\n",
        "        if x1 > x6: continue\n",
        "        if x5!=x6 and {x5,x6} <= s:\n",
        "          print(f\"{x1},{x2},{x3};{x4},{x3},{x5};{x6},{x5},{x2}\")\n",
        "          #print(x1,x2,x3,x4,x5,x6,\"Hi\")"
      ],
      "execution_count": 52,
      "outputs": [
        {
          "output_type": "stream",
          "text": [
            "1,4,6;3,6,2;5,2,4\n",
            "1,5,6;2,6,4;3,4,5\n",
            "1,6,4;5,4,2;3,2,6\n",
            "1,6,5;3,5,4;2,4,6\n",
            "2,3,5;4,5,1;6,1,3\n",
            "2,5,3;6,3,1;4,1,5\n",
            "4,2,3;5,3,1;6,1,2\n",
            "4,3,2;6,2,1;5,1,3\n",
            "CPU times: user 838 µs, sys: 0 ns, total: 838 µs\n",
            "Wall time: 717 µs\n"
          ],
          "name": "stdout"
        }
      ]
    },
    {
      "cell_type": "code",
      "metadata": {
        "id": "qw6KLYJi4l_B",
        "colab_type": "code",
        "colab": {
          "base_uri": "https://localhost:8080/",
          "height": 67
        },
        "outputId": "7d0c0f38-5560-442e-d67f-dde7515dfa0d"
      },
      "source": [
        "%%time\n",
        "#Main program: Code for the 5-gon ring\n",
        "p = set(range(1,11))\n",
        "ans = 0\n",
        "for x1 in p:\n",
        "  s = p - {x1}\n",
        "  for x2 in s:\n",
        "    s = p -{x1,x2}\n",
        "    for x3 in s:\n",
        "      s = p -{x1,x2,x3}\n",
        "      tot = x1+x2+x3\n",
        "      for x4 in s:\n",
        "        if x1>x4 : continue\n",
        "        x5 = tot - x3 - x4\n",
        "        s = p - {x1,x2,x3,x4}\n",
        "        if x5 not in s: continue\n",
        "        s = p - {x1,x2,x3,x4,x5}\n",
        "        for x6 in s:\n",
        "          if x1>x6: continue\n",
        "          x7 = tot - x5 - x6\n",
        "          s = p - {x1,x2,x3,x4,x5,x6}\n",
        "          if x7 not in s: continue\n",
        "          s = p - {x1,x2,x3,x4,x5,x6,x7}\n",
        "          for x8 in s:\n",
        "            if x1>x8: continue\n",
        "            x9 = tot - x7 - x8\n",
        "            x10 = tot - x2 - x9\n",
        "            s = p - {x1,x2,x3,x4,x5,x6,x7,x8}\n",
        "            if x1 > x10: continue\n",
        "            if x9!=x10 and {x9,x10} <= s:\n",
        "              #print(f\"{x1},{x2},{x3};{x4},{x3},{x5};{x6},{x5},{x7};{x8},{x7},{x9};{x10},{x9},{x2}\")\n",
        "              temp_ans = f\"{x1}{x2}{x3}{x4}{x3}{x5}{x6}{x5}{x7}{x8}{x7}{x9}{x10}{x9}{x2}\"\n",
        "              if len(temp_ans) == 16:\n",
        "                temp_ans = int(temp_ans)\n",
        "                if temp_ans > ans:\n",
        "                  ans = temp_ans\n",
        "print(\"Answer is:\", ans)\n",
        "\n",
        "\n",
        "\n"
      ],
      "execution_count": 53,
      "outputs": [
        {
          "output_type": "stream",
          "text": [
            "Answer is: 6531031914842725\n",
            "CPU times: user 12.2 ms, sys: 578 µs, total: 12.8 ms\n",
            "Wall time: 12.5 ms\n"
          ],
          "name": "stdout"
        }
      ]
    }
  ]
}