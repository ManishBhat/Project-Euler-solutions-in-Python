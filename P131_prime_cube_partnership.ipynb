{
  "nbformat": 4,
  "nbformat_minor": 0,
  "metadata": {
    "colab": {
      "name": "P131_prime_cube_partnership.ipynb",
      "provenance": []
    },
    "kernelspec": {
      "name": "python3",
      "display_name": "Python 3"
    }
  },
  "cells": [
    {
      "cell_type": "code",
      "metadata": {
        "id": "uoRYLfqp_AVX"
      },
      "source": [
        "from sympy import isprime\n",
        "\n",
        "def f(i):\n",
        "  return (i+1)**3 - i**3\n",
        "\n",
        "def f2(N):\n",
        "  i = 1\n",
        "  p = f(i)\n",
        "  counter = 0\n",
        "  while p < N:\n",
        "    if isprime(p):\n",
        "      counter += 1\n",
        "    i += 1\n",
        "    p = f(i)\n",
        "  return counter"
      ],
      "execution_count": 3,
      "outputs": []
    },
    {
      "cell_type": "code",
      "metadata": {
        "id": "tsYuTdaz_3q5",
        "outputId": "900f8bd9-9d1d-47c5-a771-4eabe7e75dae",
        "colab": {
          "base_uri": "https://localhost:8080/",
          "height": 67
        }
      },
      "source": [
        "%%time\n",
        "N = 1_000_000\n",
        "print(f2(N))"
      ],
      "execution_count": 5,
      "outputs": [
        {
          "output_type": "stream",
          "text": [
            "173\n",
            "CPU times: user 4.18 ms, sys: 1.04 ms, total: 5.22 ms\n",
            "Wall time: 5.16 ms\n"
          ],
          "name": "stdout"
        }
      ]
    }
  ]
}