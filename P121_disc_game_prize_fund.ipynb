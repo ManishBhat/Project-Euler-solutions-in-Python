{
  "nbformat": 4,
  "nbformat_minor": 0,
  "metadata": {
    "colab": {
      "name": "P121_disc_game_prize_fund.ipynb",
      "provenance": []
    },
    "kernelspec": {
      "name": "python3",
      "display_name": "Python 3"
    }
  },
  "cells": [
    {
      "cell_type": "code",
      "metadata": {
        "id": "0t5xJdnYvSwh"
      },
      "source": [
        "''' \n",
        "Generates a set of numbers for use in later functions. \n",
        "Eg. f1(4) = {2,3,4,5}\n",
        "'''\n",
        "def f1(n):\n",
        "  return {i+2 for i in range(n)}"
      ],
      "execution_count": 43,
      "outputs": []
    },
    {
      "cell_type": "code",
      "metadata": {
        "id": "FE_40hirvqdz"
      },
      "source": [
        "from itertools import combinations\n",
        "\n",
        "'''\n",
        "Returns probability associated with a given combination.\n",
        "Eg. comb = {3,4}, lst = {2,3,4,5} means that contestant draws BLUE in turn 2\n",
        "and 3 & draws RED in turns 1 & 4.\n",
        "Prob of this happening = (1/3)*(1/4) * (1/2)*(4/5)\n",
        "This is the prob that the function returns.\n",
        "'''\n",
        "def f2(comb, lst):\n",
        "  s1 = comb\n",
        "  s2 = lst.difference(comb)\n",
        "  p = 1\n",
        "  for x in s1:\n",
        "    p *= (1/x)\n",
        "  for x in s2:\n",
        "    p *= (1 - 1/x)\n",
        "  return p\n"
      ],
      "execution_count": 44,
      "outputs": []
    },
    {
      "cell_type": "code",
      "metadata": {
        "id": "yUYM7mmRxitl"
      },
      "source": [
        "'''\n",
        "Returns probability of contestant winning in game with n turns (i.e. drawing\n",
        "more Blues than Reds.)\n",
        "\n",
        "The first loop (with r) goes through situations with r BLUES & (n-r) REDS.\n",
        "The second loop goes through combinations with r BLUES % (n-r) REDS.\n",
        "Compute prob associated with all instances.\n",
        "'''\n",
        "def f3(n):\n",
        "  lst = f1(n)\n",
        "  total_prob = 0\n",
        "  for r in range(n//2+1, n+1):\n",
        "    for comb in combinations(lst, r):\n",
        "      total_prob += f2(comb, lst)\n",
        "  return total_prob"
      ],
      "execution_count": 45,
      "outputs": []
    },
    {
      "cell_type": "code",
      "metadata": {
        "id": "mFmSPJqkzUHV"
      },
      "source": [
        "'''\n",
        "Returns prize money for game with n turns.\n",
        "'''\n",
        "def f4(n):\n",
        "  p = f3(n)\n",
        "  return int(1/p) # Prize to be awarded"
      ],
      "execution_count": 46,
      "outputs": []
    },
    {
      "cell_type": "code",
      "metadata": {
        "id": "mOC01PTDyooP",
        "outputId": "4ddf80f5-fb52-448b-a26e-c7abc2674737",
        "colab": {
          "base_uri": "https://localhost:8080/",
          "height": 34
        }
      },
      "source": [
        "print(\"The maximum prize fund that can be allocated is: $\", f4(15))"
      ],
      "execution_count": 47,
      "outputs": [
        {
          "output_type": "stream",
          "text": [
            "The maximum prize fund that can be allocated is: $ 2269\n"
          ],
          "name": "stdout"
        }
      ]
    }
  ]
}