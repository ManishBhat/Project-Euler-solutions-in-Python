{
  "nbformat": 4,
  "nbformat_minor": 0,
  "metadata": {
    "colab": {
      "name": "P346_strong_repunits.ipynb",
      "provenance": []
    },
    "kernelspec": {
      "name": "python3",
      "display_name": "Python 3"
    }
  },
  "cells": [
    {
      "cell_type": "code",
      "metadata": {
        "id": "mTGgrn13WNsF",
        "colab_type": "code",
        "colab": {}
      },
      "source": [
        "from math import sqrt\n",
        "\n",
        "def f(N):\n",
        "  s = set()\n",
        "  sqrt_N = int(sqrt(N))\n",
        "  ans = 1\n",
        "\n",
        "  for b in range(2, sqrt_N + 1):\n",
        "    val = 1 + b + b*b\n",
        "    term = b*b\n",
        "    while val < N:\n",
        "      if val > sqrt_N + 1:\n",
        "        ans += val # If the value is greater than sqrt_N then we know that there is a b > sqrt_N such that b+1 = val.\n",
        "      else:\n",
        "        s.add(val) # Set is used to prevent double counting.\n",
        "      term *= b\n",
        "      val += term\n",
        "\n",
        "  ans += sum(s)\n",
        "  print(ans)"
      ],
      "execution_count": 72,
      "outputs": []
    },
    {
      "cell_type": "code",
      "metadata": {
        "id": "8EJqLJoLcGWD",
        "colab_type": "code",
        "colab": {
          "base_uri": "https://localhost:8080/",
          "height": 68
        },
        "outputId": "32c0edff-fa12-4d20-ee7a-fb209519f7aa"
      },
      "source": [
        "%%time\n",
        "f(10**12)"
      ],
      "execution_count": 73,
      "outputs": [
        {
          "output_type": "stream",
          "text": [
            "336108797689259276\n",
            "CPU times: user 385 ms, sys: 732 µs, total: 386 ms\n",
            "Wall time: 386 ms\n"
          ],
          "name": "stdout"
        }
      ]
    }
  ]
}