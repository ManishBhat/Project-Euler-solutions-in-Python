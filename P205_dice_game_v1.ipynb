{
  "nbformat": 4,
  "nbformat_minor": 0,
  "metadata": {
    "colab": {
      "name": "P205_dice_game.ipynb",
      "provenance": []
    },
    "kernelspec": {
      "name": "python3",
      "display_name": "Python 3"
    }
  },
  "cells": [
    {
      "cell_type": "code",
      "metadata": {
        "id": "Q45H7VTzF9JA",
        "colab_type": "code",
        "colab": {}
      },
      "source": [
        "from collections import Counter"
      ],
      "execution_count": 91,
      "outputs": []
    },
    {
      "cell_type": "code",
      "metadata": {
        "id": "vX4GU19aTw63",
        "colab_type": "code",
        "colab": {}
      },
      "source": [
        "class Pmf(Counter):\n",
        "    \"\"\"A Counter with probabilities.\"\"\"\n",
        "\n",
        "    def normalize(self):\n",
        "        \"\"\"Normalizes the PMF so the probabilities add to 1.\"\"\"\n",
        "        total = float(sum(self.values()))\n",
        "        for key in self:\n",
        "            self[key] /= total\n",
        "\n",
        "    def __add__(self, other):\n",
        "        \"\"\"Adds two distributions.\n",
        "\n",
        "        The result is the distribution of sums of values from the\n",
        "        two distributions.\n",
        "\n",
        "        other: Pmf\n",
        "\n",
        "        returns: new Pmf\n",
        "        \"\"\"\n",
        "        pmf = Pmf()\n",
        "        for key1, prob1 in self.items():\n",
        "            for key2, prob2 in other.items():\n",
        "                pmf[key1 + key2] += prob1 * prob2\n",
        "        return pmf\n",
        "    \n",
        "    def __mul__ (self, val):\n",
        "      pmf = Pmf()\n",
        "      for k in self:\n",
        "          pmf[k*val] = self[k] \n",
        "      return pmf\n",
        "    \n",
        "    def __sub__(self, other):\n",
        "      return self.__add__(other.__mul__(-1))\n",
        "    \n",
        "    def display(self):\n",
        "      for k,v in self.items():\n",
        "        print(\"val=\",k, \"p=\",v)"
      ],
      "execution_count": 92,
      "outputs": []
    },
    {
      "cell_type": "code",
      "metadata": {
        "id": "Tc4v9vO0Wony",
        "colab_type": "code",
        "colab": {
          "base_uri": "https://localhost:8080/",
          "height": 68
        },
        "outputId": "37b6847c-01d2-4c60-d42e-ec7930147d80"
      },
      "source": [
        "%%time\n",
        "d4 = Pmf([1,2,3,4])\n",
        "d6 = Pmf([1,2,3,4,5,6])\n",
        "d4.normalize()\n",
        "d6.normalize()\n",
        "peter = d4\n",
        "colin = d6\n",
        "for i in range(9-1):\n",
        "    peter = peter + d4\n",
        "for i in range(6-1):\n",
        "    colin = colin + d6\n",
        "\n",
        "outcome = peter - colin\n",
        "final_ans = 0\n",
        "for k,v in outcome.items():\n",
        "  if k>0:\n",
        "    final_ans += v\n",
        "print(final_ans)\n"
      ],
      "execution_count": 95,
      "outputs": [
        {
          "output_type": "stream",
          "text": [
            "0.5731440767829797\n",
            "CPU times: user 885 µs, sys: 0 ns, total: 885 µs\n",
            "Wall time: 864 µs\n"
          ],
          "name": "stdout"
        }
      ]
    }
  ]
}