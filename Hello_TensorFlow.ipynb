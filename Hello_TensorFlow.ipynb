{
  "nbformat": 4,
  "nbformat_minor": 0,
  "metadata": {
    "colab": {
      "name": "Hello TensorFlow.ipynb",
      "provenance": [],
      "collapsed_sections": [],
      "authorship_tag": "ABX9TyPz0sgctD+YY/tivPWh83Sk",
      "include_colab_link": true
    },
    "kernelspec": {
      "name": "python3",
      "display_name": "Python 3"
    }
  },
  "cells": [
    {
      "cell_type": "markdown",
      "metadata": {
        "id": "view-in-github",
        "colab_type": "text"
      },
      "source": [
        "<a href=\"https://colab.research.google.com/github/ManishBhat/Project-Euler-solutions-in-Python/blob/master/Hello_TensorFlow.ipynb\" target=\"_parent\"><img src=\"https://colab.research.google.com/assets/colab-badge.svg\" alt=\"Open In Colab\"/></a>"
      ]
    },
    {
      "cell_type": "markdown",
      "metadata": {
        "id": "GLZomD5x_H2l",
        "colab_type": "text"
      },
      "source": [
        ""
      ]
    },
    {
      "cell_type": "code",
      "metadata": {
        "id": "RFgMVdhnAhQL",
        "colab_type": "code",
        "colab": {}
      },
      "source": [
        "from IPython.core.interactiveshell import InteractiveShell\n",
        "InteractiveShell.ast_node_interactivity = \"all\""
      ],
      "execution_count": 0,
      "outputs": []
    },
    {
      "cell_type": "code",
      "metadata": {
        "id": "kn_iRfkR_J-7",
        "colab_type": "code",
        "outputId": "c2edfe89-d092-4c20-9296-13f6a76ff144",
        "colab": {
          "base_uri": "https://localhost:8080/",
          "height": 34
        }
      },
      "source": [
        "%tensorflow_version 2.x\n",
        "import numpy\n",
        "import tensorflow as tf\n",
        "print(tf.version)\n"
      ],
      "execution_count": 11,
      "outputs": [
        {
          "output_type": "stream",
          "text": [
            "<module 'tensorflow._api.v2.version' from '/usr/local/lib/python3.6/dist-packages/tensorflow/_api/v2/version/__init__.py'>\n"
          ],
          "name": "stdout"
        }
      ]
    },
    {
      "cell_type": "code",
      "metadata": {
        "id": "DkTPGrWqBONw",
        "colab_type": "code",
        "colab": {}
      },
      "source": [
        "string = tf.Variable(\"this is a string\",tf.string)\n",
        "number = tf.Variable(324,tf.int16)\n",
        "floating = tf.Variable(3.567,tf.float64)"
      ],
      "execution_count": 0,
      "outputs": []
    },
    {
      "cell_type": "code",
      "metadata": {
        "id": "85R-sLSmU1Yr",
        "colab_type": "code",
        "colab": {}
      },
      "source": [
        "rank1_tensor = tf.Variable([\"Test\",\"ok\",\"Tim\"],tf.string)\n",
        "rank2_tensor = tf.Variable([[\"test\",\"no\",\"ter\"],[\"test\",\"yes\",\"Hello\"]],tf.string)"
      ],
      "execution_count": 0,
      "outputs": []
    },
    {
      "cell_type": "code",
      "metadata": {
        "id": "U48X1gcZVPC1",
        "colab_type": "code",
        "outputId": "d4109149-6899-4774-ab3e-618d1a765609",
        "colab": {
          "base_uri": "https://localhost:8080/",
          "height": 34
        }
      },
      "source": [
        "tf.rank(rank1_tensor)"
      ],
      "execution_count": 14,
      "outputs": [
        {
          "output_type": "execute_result",
          "data": {
            "text/plain": [
              "<tf.Tensor: shape=(), dtype=int32, numpy=1>"
            ]
          },
          "metadata": {
            "tags": []
          },
          "execution_count": 14
        }
      ]
    },
    {
      "cell_type": "code",
      "metadata": {
        "id": "Ydwxp4K2VfN_",
        "colab_type": "code",
        "colab": {}
      },
      "source": [
        "tf.rank(rank2_tensor)\n",
        "rank2_tensor.shape\n",
        "print(dir(rank2_tensor))"
      ],
      "execution_count": 0,
      "outputs": []
    },
    {
      "cell_type": "code",
      "metadata": {
        "id": "xnSgEcfki3Ey",
        "colab_type": "code",
        "outputId": "b8f0eccf-4772-4b44-9f7a-2b9b170bf00f",
        "colab": {
          "base_uri": "https://localhost:8080/",
          "height": 185
        }
      },
      "source": [
        "tensor1 = tf.ones([2,3])\n",
        "tensor1.shape\n",
        "print(tensor1)\n",
        "tensor2 = tf.reshape(tensor1, [3,2])\n",
        "print(tensor2)\n",
        "tensor3 = tf.reshape(tensor1, [1,2,-1])\n",
        "print(tensor3)"
      ],
      "execution_count": 16,
      "outputs": [
        {
          "output_type": "execute_result",
          "data": {
            "text/plain": [
              "TensorShape([2, 3])"
            ]
          },
          "metadata": {
            "tags": []
          },
          "execution_count": 16
        },
        {
          "output_type": "stream",
          "text": [
            "tf.Tensor(\n",
            "[[1. 1. 1.]\n",
            " [1. 1. 1.]], shape=(2, 3), dtype=float32)\n",
            "tf.Tensor(\n",
            "[[1. 1.]\n",
            " [1. 1.]\n",
            " [1. 1.]], shape=(3, 2), dtype=float32)\n",
            "tf.Tensor(\n",
            "[[[1. 1. 1.]\n",
            "  [1. 1. 1.]]], shape=(1, 2, 3), dtype=float32)\n"
          ],
          "name": "stdout"
        }
      ]
    },
    {
      "cell_type": "markdown",
      "metadata": {
        "id": "wcebhElJfN8M",
        "colab_type": "text"
      },
      "source": [
        "# Types of variables\n",
        "1.   string\n",
        "2.   int16\n",
        "3.   float64\n",
        "\n",
        "#Rank of a tensor\n",
        "tf.rank(Tensor)\n",
        "\n",
        "\n",
        "\n",
        "\n",
        "\n"
      ]
    }
  ]
}