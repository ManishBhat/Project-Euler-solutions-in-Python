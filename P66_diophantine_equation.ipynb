{
  "nbformat": 4,
  "nbformat_minor": 0,
  "metadata": {
    "colab": {
      "name": "P66_diophantine_equation.ipynb",
      "provenance": []
    },
    "kernelspec": {
      "name": "python3",
      "display_name": "Python 3"
    }
  },
  "cells": [
    {
      "cell_type": "code",
      "metadata": {
        "id": "qibeoedyegPK",
        "colab_type": "code",
        "colab": {}
      },
      "source": [
        "from math import sqrt\n",
        "\n",
        "def get_minimalfrac(n):\n",
        "  a0 = int(sqrt(n))\n",
        "  if a0*a0 == n:\n",
        "    return 0\n",
        "  #h0, k0 = a0, 1\n",
        "  #h1, k1 = a0+1, 1\n",
        "  h0, k0 = 0, 1\n",
        "  h1, k1 = 1, 0\n",
        "  a = a0\n",
        "  d = 1\n",
        "  m = 0\n",
        "  for i in range(100):\n",
        "    h2 = a*h1 + h0 \n",
        "    k2 = a*k1 + k0\n",
        "    h0, k0 = h1, k1\n",
        "    h1, k1 = h2, k2\n",
        "    if h2*h2 - n*k2*k2 == 1:\n",
        "      return h2\n",
        "    m = d*a - m\n",
        "    d = (n - m * m) // d\n",
        "    a = (a0 + m) // d\n",
        "\n",
        "def q66():\n",
        "  N = 1000\n",
        "  max_D, max_val = 0, 0\n",
        "  for D in range(2, N + 1):\n",
        "    val = get_minimalfrac(D)\n",
        "    if val> max_val:\n",
        "      max_D, max_val = D, val\n",
        "  print(max_D)"
      ],
      "execution_count": 30,
      "outputs": []
    },
    {
      "cell_type": "code",
      "metadata": {
        "id": "slFCI-GQxDhn",
        "colab_type": "code",
        "colab": {
          "base_uri": "https://localhost:8080/",
          "height": 68
        },
        "outputId": "9ef9f998-a4e3-4c22-bcb9-be6fbbaed3cc"
      },
      "source": [
        "%%time\n",
        "q66()"
      ],
      "execution_count": 31,
      "outputs": [
        {
          "output_type": "stream",
          "text": [
            "661\n",
            "CPU times: user 6.61 ms, sys: 43 µs, total: 6.65 ms\n",
            "Wall time: 6.56 ms\n"
          ],
          "name": "stdout"
        }
      ]
    }
  ]
}