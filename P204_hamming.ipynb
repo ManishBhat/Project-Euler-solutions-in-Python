{
  "nbformat": 4,
  "nbformat_minor": 0,
  "metadata": {
    "colab": {
      "name": "P204_hamming.ipynb",
      "provenance": []
    },
    "kernelspec": {
      "name": "python3",
      "display_name": "Python 3"
    }
  },
  "cells": [
    {
      "cell_type": "code",
      "metadata": {
        "id": "6mYJkte_3O1K"
      },
      "source": [
        "from sympy import sieve\n",
        "from math import log \n",
        "from numba import jit"
      ],
      "execution_count": 66,
      "outputs": []
    },
    {
      "cell_type": "code",
      "metadata": {
        "id": "Sq9dLFAs27ol"
      },
      "source": [
        "@jit\n",
        "def f(k, n):\n",
        "  plist = set(sieve.primerange(1, k+1))\n",
        "  arr = [log(n)]\n",
        "  counter = 0\n",
        "  for p in plist:\n",
        "    for val in arr:\n",
        "      counter += int(val/log(p))\n",
        "      #print(counter)\n",
        "    arr2 = []\n",
        "    for val in arr:\n",
        "      t = val\n",
        "      while True:\n",
        "        t = t - log(p)\n",
        "        if t<0: break\n",
        "        arr2.append(t)\n",
        "    #print(arr2)\n",
        "    arr.extend(arr2)\n",
        "  return counter"
      ],
      "execution_count": 67,
      "outputs": []
    },
    {
      "cell_type": "code",
      "metadata": {
        "id": "1HMn3f0f3asV",
        "outputId": "a001dabe-8fbe-459f-a23b-3d1dcf093a95",
        "colab": {
          "base_uri": "https://localhost:8080/"
        }
      },
      "source": [
        "%%time\n",
        "print(f(100,10**9)+1)"
      ],
      "execution_count": 74,
      "outputs": [
        {
          "output_type": "stream",
          "text": [
            "2944730\n",
            "CPU times: user 256 ms, sys: 36.1 ms, total: 292 ms\n",
            "Wall time: 292 ms\n"
          ],
          "name": "stdout"
        }
      ]
    }
  ]
}