{
  "nbformat": 4,
  "nbformat_minor": 0,
  "metadata": {
    "colab": {
      "name": "P80_square_root_digital_expansion.ipynb",
      "provenance": []
    },
    "kernelspec": {
      "name": "python3",
      "display_name": "Python 3"
    }
  },
  "cells": [
    {
      "cell_type": "code",
      "metadata": {
        "id": "70kn-NoEz7xe",
        "colab_type": "code",
        "colab": {
          "base_uri": "https://localhost:8080/",
          "height": 68
        },
        "outputId": "b46435dd-8d5e-49b8-ad11-c053bfb3070f"
      },
      "source": [
        "%%time\n",
        "from decimal import getcontext, Decimal\n",
        "import re\n",
        "\n",
        "def sq_root_dig_expansion(n):\n",
        "  getcontext().prec = 110\n",
        "  y = Decimal(n).sqrt()\n",
        "  if int(y)*int(y) == n: return 0\n",
        "  z = re.sub('[^0-9]','', str(y)) # Strip out the decimal point\n",
        "  return sum([int(dig) for dig in z[:100]])\n",
        "\n",
        "ans = 0\n",
        "N = 100\n",
        "for n in range(1,N+1):\n",
        "   ans += sq_root_dig_expansion(n)\n",
        "print(ans)"
      ],
      "execution_count": 75,
      "outputs": [
        {
          "output_type": "stream",
          "text": [
            "40886\n",
            "CPU times: user 4.95 ms, sys: 0 ns, total: 4.95 ms\n",
            "Wall time: 4.85 ms\n"
          ],
          "name": "stdout"
        }
      ]
    }
  ]
}